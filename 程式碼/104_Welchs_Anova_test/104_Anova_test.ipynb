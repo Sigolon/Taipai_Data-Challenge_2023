{
 "cells": [
  {
   "cell_type": "code",
   "execution_count": 1,
   "metadata": {},
   "outputs": [],
   "source": [
    "import re, os, pandas\n",
    "from pingouin import pairwise_gameshowell\n",
    "import pingouin as pg\n",
    "import scipy.stats as stats\n"
   ]
  },
  {
   "cell_type": "code",
   "execution_count": null,
   "metadata": {},
   "outputs": [],
   "source": [
    "def os_path(list) : \n",
    "    os_path = os.path.dirname(os.path.dirname(os.getcwd()))\n",
    "    for i in list : \n",
    "        os_path = os.path.join(os_path, i)\n",
    "    return os_path"
   ]
  },
  {
   "cell_type": "code",
   "execution_count": 2,
   "metadata": {},
   "outputs": [],
   "source": [
    "df = pandas.read_csv(os_path([\"database_clean\", \"database_clean.csv\"]))\n"
   ]
  },
  {
   "cell_type": "code",
   "execution_count": 3,
   "metadata": {},
   "outputs": [
    {
     "data": {
      "text/plain": [
       "Index(['Profession_classification', 'company_name', 'work_name',\n",
       "       'requirements', '104_url', 'area', 'education', 'industry', 'seniority',\n",
       "       'number_of_applicants', 'salary', 'company_size', 'area_district',\n",
       "       'number_of_applicants_level', 'education_specialist', 'education_none',\n",
       "       'education_University', 'education_high_school',\n",
       "       'education_low_high_school', 'education_phd', 'education_master',\n",
       "       'month_salary_classfication', 'year_salary_classfication',\n",
       "       'time_salary_classfication', 'element_salary_classfication',\n",
       "       'max_salary', 'mix_salary', 'company_area',\n",
       "       'Profession_classification_chinese'],\n",
       "      dtype='object')"
      ]
     },
     "execution_count": 3,
     "metadata": {},
     "output_type": "execute_result"
    }
   ],
   "source": [
    "df.columns"
   ]
  },
  {
   "attachments": {},
   "cell_type": "markdown",
   "metadata": {},
   "source": [
    "# 假設變異數不同質-Anova檢定\n"
   ]
  },
  {
   "cell_type": "code",
   "execution_count": 3,
   "metadata": {},
   "outputs": [],
   "source": [
    "# 記得改縣市別\n",
    "df_base_Welchs_anova_test = pandas.DataFrame([])\n",
    "df_base_Games_Howell = pandas.DataFrame([])\n",
    "for Profession_classification in list(dict.fromkeys(df[\"Profession_classification_chinese\"])) : \n",
    "    sign_list = []\n",
    "    for area in list(dict.fromkeys(df[\"area\"])): \n",
    "        if area == \"台北市\" : \n",
    "            continue\n",
    "        sign_list.append({\"縣市\" : area, \"職業類型\" :Profession_classification})\n",
    "        \n",
    "    # welch_anova 檢定\n",
    "    anova_result = pg.welch_anova(data= df[(df[\"Profession_classification_chinese\"]==Profession_classification) & ~(df[\"mix_salary\"].isnull()) & (df[\"month_salary_classfication\"] == 1)].copy() , dv=\"mix_salary\", between=\"area\")\n",
    "        \n",
    "    if anova_result[\"p-unc\"].values[0] < 0.05 :\n",
    "        # print(f\"{Profession_classification}:{anova_result['p-unc'].values[0]}\")\n",
    "        sign_df = pandas.DataFrame(sign_list)\n",
    "        sign_df[\"Welch's_anova_test\"] = \"pass\"\n",
    "        df_base_Welchs_anova_test = pandas.concat([df_base_Welchs_anova_test, sign_df])\n",
    "        pass\n",
    "    else :  \n",
    "        sign_df = pandas.DataFrame(sign_list)\n",
    "        sign_df[\"Welch's_anova_test\"] = \"reject\"\n",
    "        df_base_Welchs_anova_test = pandas.concat([df_base_Welchs_anova_test, sign_df])\n",
    "        continue\n",
    "\n",
    "    # 進行Games-Howell檢定\n",
    "    result_county_list = []  \n",
    "    posthoc_result = pairwise_gameshowell(data= df[(df[\"Profession_classification_chinese\"]==Profession_classification) & ~(df[\"mix_salary\"].isnull()) & (df[\"month_salary_classfication\"] == 1)].copy() , dv=\"mix_salary\", between=\"area\")\n",
    "\n",
    "    significant_pairs = posthoc_result[posthoc_result['pval'] < 0.05].copy()\n",
    "    significant_pairs[\"pairs\"] = significant_pairs[\"A\"] + significant_pairs[\"B\"]\n",
    "    for pair in list(dict.fromkeys(significant_pairs[\"pairs\"])) :\n",
    "        if \"台北市\" not in pair :\n",
    "            continue \n",
    "        else : \n",
    "            # 台北平均數\n",
    "            Taipai_mean = df[(df[\"Profession_classification_chinese\"]==Profession_classification) & (df[\"area\"] == \"台北市\") & (df[\"month_salary_classfication\"] == 1)][\"mix_salary\"].mean()\n",
    "            # print(Taipai_mean)\n",
    "            # 該縣平均數\n",
    "            county_mean = df[(df[\"Profession_classification_chinese\"]==Profession_classification) & (df[\"area\"] == pair.replace(\"台北市\", \"\")) & (df[\"month_salary_classfication\"] == 1)][\"mix_salary\"].mean()\n",
    "            # print(county_mean)\n",
    "            result_county = {\"縣市\" : pair.replace(\"台北市\", \"\"), \"職業類型\" :Profession_classification, \"Games-Howell_test\" :\"pass\", \"平均值差異\" : (county_mean - Taipai_mean)} # 縣市值 - 台北值。\n",
    "            result_county_list.append(result_county)\n",
    "            # print(result_county)\n",
    "    result_county_df = pandas.DataFrame(result_county_list)\n",
    "    df_base_Games_Howell = pandas.concat([df_base_Games_Howell, result_county_df])\n",
    "\n"
   ]
  },
  {
   "cell_type": "code",
   "execution_count": 12,
   "metadata": {},
   "outputs": [
    {
     "data": {
      "text/plain": [
       "44546.653333333335"
      ]
     },
     "execution_count": 12,
     "metadata": {},
     "output_type": "execute_result"
    }
   ],
   "source": [
    "df[(df[\"Profession_classification_chinese\"]==\"傳播藝術、設計類\") & (df[\"area\"] == \"基隆市\") & (df[\"month_salary_classfication\"] == 1)][\"mix_salary\"].mean()"
   ]
  },
  {
   "cell_type": "code",
   "execution_count": 13,
   "metadata": {},
   "outputs": [
    {
     "data": {
      "text/plain": [
       "33442.88888888889"
      ]
     },
     "execution_count": 13,
     "metadata": {},
     "output_type": "execute_result"
    }
   ],
   "source": [
    "df[(df[\"Profession_classification_chinese\"]==\"傳播藝術、設計類\") & (df[\"area\"] == \"台北市\") & (df[\"month_salary_classfication\"] == 1)][\"mix_salary\"].mean()"
   ]
  },
  {
   "cell_type": "code",
   "execution_count": 4,
   "metadata": {},
   "outputs": [],
   "source": [
    "df_test = pandas.read_csv(os_path([\"檢定資料\", \"同質性檢定.csv\"]))\n",
    "df_test = pandas.merge(df_test, df_base_Welchs_anova_test, on=[\"縣市\", \"職業類型\"], how=\"outer\")\n"
   ]
  },
  {
   "cell_type": "code",
   "execution_count": 5,
   "metadata": {},
   "outputs": [
    {
     "data": {
      "text/html": [
       "<div>\n",
       "<style scoped>\n",
       "    .dataframe tbody tr th:only-of-type {\n",
       "        vertical-align: middle;\n",
       "    }\n",
       "\n",
       "    .dataframe tbody tr th {\n",
       "        vertical-align: top;\n",
       "    }\n",
       "\n",
       "    .dataframe thead th {\n",
       "        text-align: right;\n",
       "    }\n",
       "</style>\n",
       "<table border=\"1\" class=\"dataframe\">\n",
       "  <thead>\n",
       "    <tr style=\"text-align: right;\">\n",
       "      <th></th>\n",
       "      <th>縣市</th>\n",
       "      <th>職業類型</th>\n",
       "      <th>是否通過_levene</th>\n",
       "      <th>是否通過_Shapiro_Wilk</th>\n",
       "      <th>能否進行檢定</th>\n",
       "      <th>Welch's_anova_test</th>\n",
       "      <th>Games-Howell_test</th>\n",
       "      <th>平均值差異</th>\n",
       "    </tr>\n",
       "  </thead>\n",
       "  <tbody>\n",
       "    <tr>\n",
       "      <th>0</th>\n",
       "      <td>新北市</td>\n",
       "      <td>經營、人資類</td>\n",
       "      <td>pass</td>\n",
       "      <td>pass</td>\n",
       "      <td>pass</td>\n",
       "      <td>pass</td>\n",
       "      <td>pass</td>\n",
       "      <td>-1131.755349</td>\n",
       "    </tr>\n",
       "    <tr>\n",
       "      <th>1</th>\n",
       "      <td>基隆市</td>\n",
       "      <td>經營、人資類</td>\n",
       "      <td>none</td>\n",
       "      <td>pass</td>\n",
       "      <td>none</td>\n",
       "      <td>pass</td>\n",
       "      <td>pass</td>\n",
       "      <td>-2482.235873</td>\n",
       "    </tr>\n",
       "    <tr>\n",
       "      <th>2</th>\n",
       "      <td>桃園市</td>\n",
       "      <td>經營、人資類</td>\n",
       "      <td>none</td>\n",
       "      <td>pass</td>\n",
       "      <td>none</td>\n",
       "      <td>pass</td>\n",
       "      <td>pass</td>\n",
       "      <td>-1398.195581</td>\n",
       "    </tr>\n",
       "    <tr>\n",
       "      <th>3</th>\n",
       "      <td>台南市</td>\n",
       "      <td>經營、人資類</td>\n",
       "      <td>pass</td>\n",
       "      <td>pass</td>\n",
       "      <td>pass</td>\n",
       "      <td>pass</td>\n",
       "      <td>pass</td>\n",
       "      <td>-3187.900519</td>\n",
       "    </tr>\n",
       "    <tr>\n",
       "      <th>4</th>\n",
       "      <td>宜蘭縣</td>\n",
       "      <td>經營、人資類</td>\n",
       "      <td>pass</td>\n",
       "      <td>pass</td>\n",
       "      <td>pass</td>\n",
       "      <td>pass</td>\n",
       "      <td>pass</td>\n",
       "      <td>-3326.439279</td>\n",
       "    </tr>\n",
       "    <tr>\n",
       "      <th>...</th>\n",
       "      <td>...</td>\n",
       "      <td>...</td>\n",
       "      <td>...</td>\n",
       "      <td>...</td>\n",
       "      <td>...</td>\n",
       "      <td>...</td>\n",
       "      <td>...</td>\n",
       "      <td>...</td>\n",
       "    </tr>\n",
       "    <tr>\n",
       "      <th>355</th>\n",
       "      <td>澎湖縣</td>\n",
       "      <td>其他類</td>\n",
       "      <td>none</td>\n",
       "      <td>pass</td>\n",
       "      <td>none</td>\n",
       "      <td>pass</td>\n",
       "      <td>NaN</td>\n",
       "      <td>NaN</td>\n",
       "    </tr>\n",
       "    <tr>\n",
       "      <th>356</th>\n",
       "      <td>苗栗縣</td>\n",
       "      <td>其他類</td>\n",
       "      <td>pass</td>\n",
       "      <td>pass</td>\n",
       "      <td>pass</td>\n",
       "      <td>pass</td>\n",
       "      <td>pass</td>\n",
       "      <td>-2920.312351</td>\n",
       "    </tr>\n",
       "    <tr>\n",
       "      <th>357</th>\n",
       "      <td>嘉義縣</td>\n",
       "      <td>其他類</td>\n",
       "      <td>pass</td>\n",
       "      <td>pass</td>\n",
       "      <td>pass</td>\n",
       "      <td>pass</td>\n",
       "      <td>pass</td>\n",
       "      <td>-3154.587281</td>\n",
       "    </tr>\n",
       "    <tr>\n",
       "      <th>358</th>\n",
       "      <td>嘉義市</td>\n",
       "      <td>其他類</td>\n",
       "      <td>pass</td>\n",
       "      <td>pass</td>\n",
       "      <td>pass</td>\n",
       "      <td>pass</td>\n",
       "      <td>pass</td>\n",
       "      <td>-3827.646523</td>\n",
       "    </tr>\n",
       "    <tr>\n",
       "      <th>359</th>\n",
       "      <td>台東縣</td>\n",
       "      <td>其他類</td>\n",
       "      <td>pass</td>\n",
       "      <td>pass</td>\n",
       "      <td>pass</td>\n",
       "      <td>pass</td>\n",
       "      <td>pass</td>\n",
       "      <td>-3556.043628</td>\n",
       "    </tr>\n",
       "  </tbody>\n",
       "</table>\n",
       "<p>360 rows × 8 columns</p>\n",
       "</div>"
      ],
      "text/plain": [
       "      縣市    職業類型 是否通過_levene 是否通過_Shapiro_Wilk 能否進行檢定 Welch's_anova_test  \\\n",
       "0    新北市  經營、人資類        pass              pass   pass               pass   \n",
       "1    基隆市  經營、人資類        none              pass   none               pass   \n",
       "2    桃園市  經營、人資類        none              pass   none               pass   \n",
       "3    台南市  經營、人資類        pass              pass   pass               pass   \n",
       "4    宜蘭縣  經營、人資類        pass              pass   pass               pass   \n",
       "..   ...     ...         ...               ...    ...                ...   \n",
       "355  澎湖縣     其他類        none              pass   none               pass   \n",
       "356  苗栗縣     其他類        pass              pass   pass               pass   \n",
       "357  嘉義縣     其他類        pass              pass   pass               pass   \n",
       "358  嘉義市     其他類        pass              pass   pass               pass   \n",
       "359  台東縣     其他類        pass              pass   pass               pass   \n",
       "\n",
       "    Games-Howell_test        平均值差異  \n",
       "0                pass -1131.755349  \n",
       "1                pass -2482.235873  \n",
       "2                pass -1398.195581  \n",
       "3                pass -3187.900519  \n",
       "4                pass -3326.439279  \n",
       "..                ...          ...  \n",
       "355               NaN          NaN  \n",
       "356              pass -2920.312351  \n",
       "357              pass -3154.587281  \n",
       "358              pass -3827.646523  \n",
       "359              pass -3556.043628  \n",
       "\n",
       "[360 rows x 8 columns]"
      ]
     },
     "execution_count": 5,
     "metadata": {},
     "output_type": "execute_result"
    }
   ],
   "source": [
    "df_test = pandas.merge(df_test, df_base_Games_Howell, on=[\"縣市\", \"職業類型\"], how=\"outer\")\n",
    "df_test"
   ]
  },
  {
   "cell_type": "code",
   "execution_count": 11,
   "metadata": {},
   "outputs": [
    {
     "data": {
      "text/plain": [
       "array(['經營、人資類', '行政、總務、法務類', '財會、金融專業類', '行銷、企劃、專案管理類', '客服、門市、業務、貿易類',\n",
       "       '餐飲、旅遊、美容美髮類', '資訊軟體系統類', '操作、技術、維修類', '資材、物流、運輸類', '營建、製圖類',\n",
       "       '傳播藝術、設計類', '文字、傳媒工作類', '醫療、服務保健類', '學術、教育、輔導類', '研發相關類',\n",
       "       '生產製造、品管、環衛類', '軍警消、保全類', '其他類'], dtype=object)"
      ]
     },
     "execution_count": 11,
     "metadata": {},
     "output_type": "execute_result"
    }
   ],
   "source": [
    "df_test[\"職業類型\"].unique()"
   ]
  },
  {
   "cell_type": "code",
   "execution_count": 6,
   "metadata": {},
   "outputs": [],
   "source": [
    "df_test = df_test[~(df_test[\"縣市\"] == \"台北市\")]\n",
    "df_test[\"Games-Howell_test\"] = df_test[\"Games-Howell_test\"].fillna(\"reject\")\n",
    "df_test[\"平均值差異\"] = df_test[\"平均值差異\"].fillna(\"未達顯著水準\")\n",
    "df_test.to_excel(os_path([\"檢定資料\", \"Anova_test_area_salary_month.xlsx\"]), index= False)"
   ]
  }
 ],
 "metadata": {
  "kernelspec": {
   "display_name": "Python 3",
   "language": "python",
   "name": "python3"
  },
  "language_info": {
   "codemirror_mode": {
    "name": "ipython",
    "version": 3
   },
   "file_extension": ".py",
   "mimetype": "text/x-python",
   "name": "python",
   "nbconvert_exporter": "python",
   "pygments_lexer": "ipython3",
   "version": "3.11.2"
  },
  "orig_nbformat": 4
 },
 "nbformat": 4,
 "nbformat_minor": 2
}
