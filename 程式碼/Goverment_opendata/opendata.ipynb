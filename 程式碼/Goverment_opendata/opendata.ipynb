{
 "cells": [
  {
   "cell_type": "code",
   "execution_count": 1,
   "metadata": {},
   "outputs": [],
   "source": [
    "import pandas, numpy, re, os, traceback\n",
    "import matplotlib.pyplot as plt\n",
    "import matplotlib.dates as mdates\n",
    "from matplotlib import gridspec\n",
    "import matplotlib.font_manager as fm\n",
    "import matplotlib"
   ]
  },
  {
   "cell_type": "code",
   "execution_count": null,
   "metadata": {},
   "outputs": [],
   "source": [
    "def os_path(list) : \n",
    "    os_path = os.path.dirname(os.path.dirname(os.getcwd()))\n",
    "    for i in list : \n",
    "        os_path = os.path.join(os_path, i)\n",
    "    return os_path"
   ]
  },
  {
   "attachments": {},
   "cell_type": "markdown",
   "metadata": {},
   "source": [
    "# 台北市社會增加量_圖形繪製"
   ]
  },
  {
   "cell_type": "code",
   "execution_count": 4,
   "metadata": {},
   "outputs": [],
   "source": [
    "# 遍歷資料夾中的每一個 data，並將其路徑儲存成一個list。\n",
    "data_path_list = []\n",
    "data_path_generator = os.walk(os_path([\"database\", \"縣市遷出及遷入資料\"]))\n",
    "for dirs, dirname, files in data_path_generator :\n",
    "    for file in files : \n",
    "        data_path_list.append(os.path.join(dirs, file))\n",
    "\n",
    "data_list_101_104 = []\n",
    "data_list_105_111 = []\n",
    "for data_path in data_path_list : \n",
    "    try : \n",
    "        df = pandas.read_excel(data_path,  header=2, sheet_name= \"01-12累計\")\n",
    "        df[\"區域別\"] = df[\"區域別\"].fillna(\"Na\")\n",
    "        df = df[[\"區域別\", \"遷入人數\", \"遷出人數\", \"Unnamed: 3\", \"Unnamed: 18\"]] # Unnamed: 3 = 國外移入人口、Unnamed: 18 = 往國外移出人口。\n",
    "        cuonty_list = df[\"區域別\"].unique()[2:]\n",
    "\n",
    "        # 創建一個字典物件，蒐集每一年各縣市，遷入人口-遷出人口的數值。\n",
    "        for county in cuonty_list : \n",
    "            county_index = df[df[\"區域別\"] == county].index[0] \n",
    "            social_increase_population = df.iloc[(county_index-1)][\"遷入人數\"] - df.iloc[(county_index-1)][\"遷出人數\"]\n",
    "\n",
    "            result = {\"年份\" : data_path[-8 : -5], \"縣市別\" : county, \n",
    "                    \"社會人口淨增加數\" : social_increase_population, \n",
    "                    \"控制國外遷移之社會人口增加數\" : social_increase_population - (df.iloc[(county_index-1)][\"Unnamed: 3\"] - df.iloc[(county_index-1)][\"Unnamed: 18\"])\n",
    "                    }\n",
    "            data_list_105_111.append(result)\n",
    "    except : # 101-104年資料格式不一樣。# 不存在統整好的 01-12月的統整性資料。\n",
    "        xls_file = pandas.ExcelFile(data_path)\n",
    "        sheet_names = xls_file.sheet_names\n",
    "        for sheet_name in sheet_names : \n",
    "            df = pandas.read_excel(data_path,  header=2, sheet_name= sheet_name)\n",
    "            df[\"區域別\"] = df[\"區域別\"].fillna(\"Na\")\n",
    "            df = df[[\"區域別\", \"遷入人數\", \"遷出人數\", \"Unnamed: 3\", \"Unnamed: 18\"]] # Unnamed: 3 = 國外移入人口、Unnamed: 18 = 往國外移出人口。\n",
    "            cuonty_list = df[\"區域別\"].unique()[2:]\n",
    "\n",
    "            # 創建一個字典物件，蒐集每一年各縣市，遷入人口-遷出人口的數值。\n",
    "            for county in cuonty_list : \n",
    "                county_index = df[df[\"區域別\"] == county].index[0] \n",
    "                social_increase_population = df.iloc[(county_index-1)][\"遷入人數\"] - df.iloc[(county_index-1)][\"遷出人數\"]\n",
    "\n",
    "                result = {\"年份\" : data_path[-8 : -5], \"縣市別\" : county, \n",
    "                        \"社會人口淨增加數\" : social_increase_population, \n",
    "                        \"控制國外遷移之社會人口增加數\" : social_increase_population - (df.iloc[(county_index-1)][\"Unnamed: 3\"] - df.iloc[(county_index-1)][\"Unnamed: 18\"])\n",
    "                        }\n",
    "                data_list_101_104.append(result)\n",
    "\n",
    "# 將兩組list，分別儲存為 DataFrame。\n",
    "data_county_105_111 = pandas.DataFrame(data_list_105_111)\n",
    "data_county_101_104 = pandas.DataFrame(data_list_101_104)\n",
    "\n",
    "data_list_token = []\n",
    "for year in data_county_101_104[\"年份\"].unique() : \n",
    "    df_year = data_county_101_104[data_county_101_104[\"年份\"] == year].copy()\n",
    "    for county in df_year[\"縣市別\"].unique() : \n",
    "        df_county = df_year[df_year[\"縣市別\"] == county]\n",
    "        result = {\"年份\" : year, \"縣市別\" : county, \"社會人口淨增加數\" : df_county[\"社會人口淨增加數\"].sum(), \"控制國外遷移之社會人口增加數\" : df_county[\"控制國外遷移之社會人口增加數\"].sum()}\n",
    "        data_list_token.append(result)\n",
    "data_county_101_104 = pandas.DataFrame(data_list_token)\n",
    "\n",
    "data_county_101_111 = pandas.concat([data_county_101_104, data_county_105_111])"
   ]
  },
  {
   "cell_type": "code",
   "execution_count": 5,
   "metadata": {},
   "outputs": [],
   "source": [
    "# 資料預處理 - 年份轉數字型別。\n",
    "data_county_101_111[\"年份\"] = data_county_101_111[\"年份\"].astype(float)"
   ]
  },
  {
   "cell_type": "code",
   "execution_count": 6,
   "metadata": {},
   "outputs": [],
   "source": [
    "# 儲存合併完整之檔案，以利後續持續分析。\n",
    "data_county_101_111.to_csv(os_path([\"database_clean\", \"101_111_縣市遷出遷入.csv\"]), index=False)"
   ]
  },
  {
   "cell_type": "code",
   "execution_count": 60,
   "metadata": {},
   "outputs": [],
   "source": [
    "# 創建圖片儲存資料夾\n",
    "# 建立圖片存放位置\n",
    "output_folder_path = os_path([\"picture\", \"台北市社會增加量\"])\n",
    "if not os.path.exists(output_folder_path):\n",
    "    os.makedirs(output_folder_path)\n",
    "else:\n",
    "    pass"
   ]
  },
  {
   "cell_type": "code",
   "execution_count": 8,
   "metadata": {},
   "outputs": [],
   "source": [
    "# 社會增加人口\n",
    "matplotlib.rcParams[\"font.family\"] = \"simsun\"\n",
    "plt.title(\"臺北市社會人口增加量\")\n",
    "plt.xlabel(\"年份\")\n",
    "plt.xticks(rotation= 0)\n",
    "\n",
    "# 為每一個縣市繪製折線圖\n",
    "for county in data_county_101_111[\"縣市別\"].unique()[1:2] : \n",
    "    df_county = data_county_101_111[data_county_101_111[\"縣市別\"] == county].copy()\n",
    "    \n",
    "    # 將時間順序由小到大排列。\n",
    "    df_county = df_county.sort_values(by= [\"年份\"])\n",
    "\n",
    "    plt.plot(data_county_101_111[\"年份\"].unique(), df_county[\"社會人口淨增加數\"].values, label= county)\n",
    "\n",
    "    \n",
    "plt.xticks(data_county_101_111[\"年份\"].unique(), rotation= 0)\n",
    "\n",
    "plt.legend()\n",
    "plt.savefig(os_path([\"picture\", \"台北市社會增加量\", \"plot_台北市社會增加量.png\"]), dpi=200, bbox_inches = \"tight\")\n",
    "plt.close()"
   ]
  },
  {
   "cell_type": "code",
   "execution_count": 9,
   "metadata": {},
   "outputs": [
    {
     "name": "stderr",
     "output_type": "stream",
     "text": [
      "C:\\Users\\Sigolon\\AppData\\Local\\Temp\\ipykernel_16804\\3041633278.py:19: UserWarning: Glyph 8722 (\\N{MINUS SIGN}) missing from current font.\n",
      "  plt.savefig(os.path.join(os.getcwd(), \"picture\", \"台北市社會增加量\", \"plot_台北市社會增加量(不含國際遷移).png\"), dpi=200, bbox_inches = \"tight\")\n"
     ]
    },
    {
     "data": {
      "text/plain": [
       "<function matplotlib.pyplot.show(close=None, block=None)>"
      ]
     },
     "execution_count": 9,
     "metadata": {},
     "output_type": "execute_result"
    },
    {
     "data": {
      "image/png": "[encoded data removed]",
      "text/plain": [
       "<Figure size 640x480 with 1 Axes>"
      ]
     },
     "metadata": {},
     "output_type": "display_data"
    }
   ],
   "source": [
    "# 社會增加人口\n",
    "matplotlib.rcParams[\"font.family\"] = \"simsun\"\n",
    "plt.title(\"臺北市社會人口增加量(不含國際遷移)\")\n",
    "plt.xlabel(\"年份\")\n",
    "plt.xticks(rotation= 0)\n",
    "\n",
    "# 為每一個縣市繪製折線圖\n",
    "for county in data_county_101_111[\"縣市別\"].unique()[1:2] : \n",
    "    df_county = data_county_101_111[data_county_101_111[\"縣市別\"] == county].copy()\n",
    "    \n",
    "    # 將時間順序由小到大排列。\n",
    "    df_county = df_county.sort_values(by= [\"年份\"])\n",
    "\n",
    "    plt.plot(data_county_101_111[\"年份\"].unique(), df_county[\"控制國外遷移之社會人口增加數\"].values, label= county)\n",
    "\n",
    "    \n",
    "plt.xticks(data_county_101_111[\"年份\"].unique(), rotation= 0)\n",
    "plt.legend()\n",
    "plt.savefig(os_path([\"picture\", \"台北市社會增加量\", \"plot_台北市社會增加量(不含國際遷移).png\"]), dpi=200, bbox_inches = \"tight\")\n",
    "plt.show"
   ]
  },
  {
   "attachments": {},
   "cell_type": "markdown",
   "metadata": {},
   "source": [
    "# 物價指數年增率"
   ]
  },
  {
   "cell_type": "code",
   "execution_count": 6,
   "metadata": {},
   "outputs": [],
   "source": [
    "df = pandas.read_excel(os_path([\"database\", \"物價指數年增率.xls\"]), sheet_name= \"年增率\", header=3)"
   ]
  },
  {
   "cell_type": "code",
   "execution_count": 12,
   "metadata": {},
   "outputs": [
    {
     "data": {
      "text/html": [
       "<div>\n",
       "<style scoped>\n",
       "    .dataframe tbody tr th:only-of-type {\n",
       "        vertical-align: middle;\n",
       "    }\n",
       "\n",
       "    .dataframe tbody tr th {\n",
       "        vertical-align: top;\n",
       "    }\n",
       "\n",
       "    .dataframe thead th {\n",
       "        text-align: right;\n",
       "    }\n",
       "</style>\n",
       "<table border=\"1\" class=\"dataframe\">\n",
       "  <thead>\n",
       "    <tr style=\"text-align: right;\">\n",
       "      <th></th>\n",
       "      <th>民國年</th>\n",
       "      <th>全年</th>\n",
       "    </tr>\n",
       "  </thead>\n",
       "  <tbody>\n",
       "    <tr>\n",
       "      <th>58</th>\n",
       "      <td>107.0</td>\n",
       "      <td>1.36</td>\n",
       "    </tr>\n",
       "    <tr>\n",
       "      <th>59</th>\n",
       "      <td>108.0</td>\n",
       "      <td>0.55</td>\n",
       "    </tr>\n",
       "    <tr>\n",
       "      <th>60</th>\n",
       "      <td>109.0</td>\n",
       "      <td>-0.23</td>\n",
       "    </tr>\n",
       "    <tr>\n",
       "      <th>61</th>\n",
       "      <td>110.0</td>\n",
       "      <td>1.97</td>\n",
       "    </tr>\n",
       "    <tr>\n",
       "      <th>62</th>\n",
       "      <td>111.0</td>\n",
       "      <td>2.95</td>\n",
       "    </tr>\n",
       "  </tbody>\n",
       "</table>\n",
       "</div>"
      ],
      "text/plain": [
       "      民國年    全年\n",
       "58  107.0  1.36\n",
       "59  108.0  0.55\n",
       "60  109.0 -0.23\n",
       "61  110.0  1.97\n",
       "62  111.0  2.95"
      ]
     },
     "execution_count": 12,
     "metadata": {},
     "output_type": "execute_result"
    }
   ],
   "source": [
    "df = df[~(df[\"民國年\"] == \"註：由於受查者延誤或更正報價，最近3個月資料均可能修正。\")]\n",
    "df[\"民國年\"] = df[\"民國年\"].astype(float)\n",
    "df = df[(df[\"民國年\"] >= 107) & (df[\"民國年\"] != 112)]\n",
    "df = df[[\"民國年\", \"全年\"]]\n",
    "df"
   ]
  },
  {
   "cell_type": "code",
   "execution_count": 15,
   "metadata": {},
   "outputs": [],
   "source": [
    "# 創建圖片儲存資料夾\n",
    "# 建立圖片存放位置\n",
    "output_folder_path = os_path([\"picture\", \"台北市物價增長率\"])\n",
    "if not os.path.exists(output_folder_path):\n",
    "    os.makedirs(output_folder_path)\n",
    "else:\n",
    "    pass"
   ]
  },
  {
   "cell_type": "code",
   "execution_count": 16,
   "metadata": {},
   "outputs": [],
   "source": [
    "Taipai_list =  [0.98, 0.83, -0.18, 1.55, 2.69]\n",
    "matplotlib.rcParams[\"font.family\"] = \"simsun\"\n",
    "\n",
    "plt.xlabel(\"年份\")\n",
    "plt.title(\"物價指數年增率\")\n",
    "plt.plot(df[\"民國年\"].unique(), Taipai_list, label = \"台北市物價增長率\")\n",
    "plt.plot(df[\"民國年\"].unique(), df[\"全年\"].values, label = \"全台物價增長率\")\n",
    "plt.xticks(df[\"民國年\"].unique())\n",
    "plt.legend()\n",
    "plt.savefig(os_path([\"picture\", \"台北市物價增長率\", \"plot_台北市物價增長率.png\"]), dpi=200, bbox_inches = \"tight\")\n",
    "plt.close()\n"
   ]
  },
  {
   "attachments": {},
   "cell_type": "markdown",
   "metadata": {},
   "source": [
    "# 台北市常住人口、居住人口比較_2020"
   ]
  },
  {
   "cell_type": "code",
   "execution_count": 25,
   "metadata": {},
   "outputs": [
    {
     "data": {
      "text/html": [
       "<div>\n",
       "<style scoped>\n",
       "    .dataframe tbody tr th:only-of-type {\n",
       "        vertical-align: middle;\n",
       "    }\n",
       "\n",
       "    .dataframe tbody tr th {\n",
       "        vertical-align: top;\n",
       "    }\n",
       "\n",
       "    .dataframe thead th {\n",
       "        text-align: right;\n",
       "    }\n",
       "</style>\n",
       "<table border=\"1\" class=\"dataframe\">\n",
       "  <thead>\n",
       "    <tr style=\"text-align: right;\">\n",
       "      <th></th>\n",
       "      <th>按縣市別分</th>\n",
       "      <th>總計_戶數_戶_Grand_total_Number_of_households_household</th>\n",
       "      <th>總計_常住人口數_人_Grand_total_Number_of_resident_population_person</th>\n",
       "      <th>總計_平均每戶人口數_Grand_total_Average_number_of_persons_per_household</th>\n",
       "      <th>普通住戶_戶數_戶_Ordinary_households_Number_of_households_household</th>\n",
       "      <th>普通住戶_常住人口數_人_Ordinary_households_Number_of_resident_population_person</th>\n",
       "      <th>普通住戶_平均每戶人口數_Ordinary_households_Average_number_of_persons_per_household</th>\n",
       "      <th>非普通住戶_戶數_戶_Group_quarters_Number_of_households_household</th>\n",
       "      <th>非普通住戶_常住人口數_人_Group_quarters_Number_of_resident_population_person</th>\n",
       "      <th>非普通住戶_平均每戶人口數_Group_quarters_Average_number_of_persons_per_household</th>\n",
       "      <th>By_county_city</th>\n",
       "    </tr>\n",
       "  </thead>\n",
       "  <tbody>\n",
       "    <tr>\n",
       "      <th>0</th>\n",
       "      <td>總計</td>\n",
       "      <td>8086905</td>\n",
       "      <td>23829897</td>\n",
       "      <td>2.9</td>\n",
       "      <td>8033191</td>\n",
       "      <td>22541284</td>\n",
       "      <td>2.8</td>\n",
       "      <td>53714</td>\n",
       "      <td>1288613</td>\n",
       "      <td>24.0</td>\n",
       "      <td>Grand Total</td>\n",
       "    </tr>\n",
       "    <tr>\n",
       "      <th>1</th>\n",
       "      <td>北部地區</td>\n",
       "      <td>3890142</td>\n",
       "      <td>11334806</td>\n",
       "      <td>2.9</td>\n",
       "      <td>3870578</td>\n",
       "      <td>10808085</td>\n",
       "      <td>2.8</td>\n",
       "      <td>19564</td>\n",
       "      <td>526721</td>\n",
       "      <td>26.9</td>\n",
       "      <td>Northern Region</td>\n",
       "    </tr>\n",
       "    <tr>\n",
       "      <th>2</th>\n",
       "      <td>新北市</td>\n",
       "      <td>1532931</td>\n",
       "      <td>4365947</td>\n",
       "      <td>2.8</td>\n",
       "      <td>1526303</td>\n",
       "      <td>4255681</td>\n",
       "      <td>2.8</td>\n",
       "      <td>6628</td>\n",
       "      <td>110266</td>\n",
       "      <td>16.6</td>\n",
       "      <td>New Taipei City</td>\n",
       "    </tr>\n",
       "    <tr>\n",
       "      <th>3</th>\n",
       "      <td>臺北市</td>\n",
       "      <td>938041</td>\n",
       "      <td>2594581</td>\n",
       "      <td>2.8</td>\n",
       "      <td>935990</td>\n",
       "      <td>2488641</td>\n",
       "      <td>2.7</td>\n",
       "      <td>2051</td>\n",
       "      <td>105940</td>\n",
       "      <td>51.7</td>\n",
       "      <td>Taipei City</td>\n",
       "    </tr>\n",
       "    <tr>\n",
       "      <th>4</th>\n",
       "      <td>桃園市</td>\n",
       "      <td>769641</td>\n",
       "      <td>2441064</td>\n",
       "      <td>3.2</td>\n",
       "      <td>763346</td>\n",
       "      <td>2258160</td>\n",
       "      <td>3.0</td>\n",
       "      <td>6295</td>\n",
       "      <td>182904</td>\n",
       "      <td>29.1</td>\n",
       "      <td>Taoyuan City</td>\n",
       "    </tr>\n",
       "  </tbody>\n",
       "</table>\n",
       "</div>"
      ],
      "text/plain": [
       "  按縣市別分  總計_戶數_戶_Grand_total_Number_of_households_household  \\\n",
       "0    總計                                            8086905    \n",
       "1  北部地區                                            3890142    \n",
       "2   新北市                                            1532931    \n",
       "3   臺北市                                             938041    \n",
       "4   桃園市                                             769641    \n",
       "\n",
       "   總計_常住人口數_人_Grand_total_Number_of_resident_population_person  \\\n",
       "0                                           23829897             \n",
       "1                                           11334806             \n",
       "2                                            4365947             \n",
       "3                                            2594581             \n",
       "4                                            2441064             \n",
       "\n",
       "   總計_平均每戶人口數_Grand_total_Average_number_of_persons_per_household  \\\n",
       "0                                                2.9                \n",
       "1                                                2.9                \n",
       "2                                                2.8                \n",
       "3                                                2.8                \n",
       "4                                                3.2                \n",
       "\n",
       "   普通住戶_戶數_戶_Ordinary_households_Number_of_households_household  \\\n",
       "0                                            8033191              \n",
       "1                                            3870578              \n",
       "2                                            1526303              \n",
       "3                                             935990              \n",
       "4                                             763346              \n",
       "\n",
       "   普通住戶_常住人口數_人_Ordinary_households_Number_of_resident_population_person  \\\n",
       "0                                           22541284                       \n",
       "1                                           10808085                       \n",
       "2                                            4255681                       \n",
       "3                                            2488641                       \n",
       "4                                            2258160                       \n",
       "\n",
       "   普通住戶_平均每戶人口數_Ordinary_households_Average_number_of_persons_per_household  \\\n",
       "0                                                2.8                          \n",
       "1                                                2.8                          \n",
       "2                                                2.8                          \n",
       "3                                                2.7                          \n",
       "4                                                3.0                          \n",
       "\n",
       "   非普通住戶_戶數_戶_Group_quarters_Number_of_households_household  \\\n",
       "0                                              53714          \n",
       "1                                              19564          \n",
       "2                                               6628          \n",
       "3                                               2051          \n",
       "4                                               6295          \n",
       "\n",
       "   非普通住戶_常住人口數_人_Group_quarters_Number_of_resident_population_person  \\\n",
       "0                                            1288613                   \n",
       "1                                             526721                   \n",
       "2                                             110266                   \n",
       "3                                             105940                   \n",
       "4                                             182904                   \n",
       "\n",
       "   非普通住戶_平均每戶人口數_Group_quarters_Average_number_of_persons_per_household  \\\n",
       "0                                               24.0                      \n",
       "1                                               26.9                      \n",
       "2                                               16.6                      \n",
       "3                                               51.7                      \n",
       "4                                               29.1                      \n",
       "\n",
       "    By_county_city  \n",
       "0      Grand Total  \n",
       "1  Northern Region  \n",
       "2  New Taipei City  \n",
       "3      Taipei City  \n",
       "4     Taoyuan City  "
      ]
     },
     "execution_count": 25,
     "metadata": {},
     "output_type": "execute_result"
    }
   ],
   "source": [
    "df = pandas.read_xml(os_path([\"database\", \"住戶數常住人口數及平均每戶人口數.xml\"]))\n",
    "df.head(5)"
   ]
  },
  {
   "cell_type": "code",
   "execution_count": 26,
   "metadata": {},
   "outputs": [
    {
     "data": {
      "text/plain": [
       "2.8"
      ]
     },
     "execution_count": 26,
     "metadata": {},
     "output_type": "execute_result"
    }
   ],
   "source": [
    "df[df[\"按縣市別分\"]==\"臺北市\"][\"總計_平均每戶人口數_Grand_total_Average_number_of_persons_per_household\"].values[0]"
   ]
  },
  {
   "cell_type": "code",
   "execution_count": 29,
   "metadata": {},
   "outputs": [
    {
     "data": {
      "text/plain": [
       "2626514.8"
      ]
     },
     "execution_count": 29,
     "metadata": {},
     "output_type": "execute_result"
    }
   ],
   "source": [
    "(df[df[\"按縣市別分\"]==\"臺北市\"][\"總計_戶數_戶_Grand_total_Number_of_households_household\"].values[0])*(df[df[\"按縣市別分\"]==\"臺北市\"][\"總計_平均每戶人口數_Grand_total_Average_number_of_persons_per_household\"].values[0])"
   ]
  },
  {
   "cell_type": "code",
   "execution_count": 33,
   "metadata": {},
   "outputs": [
    {
     "data": {
      "image/png": "[encoded data removed]",
      "text/plain": [
       "<Figure size 640x480 with 1 Axes>"
      ]
     },
     "metadata": {},
     "output_type": "display_data"
    }
   ],
   "source": [
    "Taipai_household = int(df[df[\"按縣市別分\"]==\"臺北市\"][\"總計_戶數_戶_Grand_total_Number_of_households_household\"].values[0]*df[df[\"按縣市別分\"]==\"臺北市\"][\"總計_平均每戶人口數_Grand_total_Average_number_of_persons_per_household\"].values[0])\n",
    "Taipai_permanent = df[df[\"按縣市別分\"]==\"臺北市\"][\"總計_常住人口數_人_Grand_total_Number_of_resident_population_person\"].values[0]\n",
    "# 繪製長條圖\n",
    "bar_labels = [f'{Taipai_permanent}_numbers', f'{Taipai_household}_numbers']\n",
    "bar_colors = ['tab:red', 'tab:blue']\n",
    "token = {\"常住人口數\" : Taipai_permanent, \"戶籍人口數\" : Taipai_household}\n",
    "plt.bar(token.keys(), token.values(), label=bar_labels, color=bar_colors)\n",
    "plt.title('臺北市常住人口、戶籍人口比較(萬人)')\n",
    "plt.legend()\n",
    "plt.savefig(os_path([\"picture\", \"臺北市戶籍人口、常住人口\", \"戶籍人口、常住人口比較\"]), dpi = 200, bbox_inches = \"tight\")\n",
    "plt.show()"
   ]
  }
 ],
 "metadata": {
  "kernelspec": {
   "display_name": "Python 3",
   "language": "python",
   "name": "python3"
  },
  "language_info": {
   "codemirror_mode": {
    "name": "ipython",
    "version": 3
   },
   "file_extension": ".py",
   "mimetype": "text/x-python",
   "name": "python",
   "nbconvert_exporter": "python",
   "pygments_lexer": "ipython3",
   "version": "3.11.2"
  },
  "orig_nbformat": 4
 },
 "nbformat": 4,
 "nbformat_minor": 2
}
