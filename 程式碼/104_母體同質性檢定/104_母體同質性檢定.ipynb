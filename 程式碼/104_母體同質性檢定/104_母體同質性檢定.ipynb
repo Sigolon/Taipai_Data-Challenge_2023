{
 "cells": [
  {
   "attachments": {},
   "cell_type": "markdown",
   "metadata": {},
   "source": [
    "# 函數庫\n",
    "1. 獨立樣本檢定函數，自動化判別，並將顯著結果輸出。"
   ]
  },
  {
   "cell_type": "code",
   "execution_count": 1,
   "metadata": {},
   "outputs": [],
   "source": [
    "import scipy.stats as stats\n",
    "import pandas, numpy, re, os\n",
    "\n",
    "def os_path(list) : \n",
    "    os_path = os.path.dirname(os.path.dirname(os.getcwd()))\n",
    "    for i in list : \n",
    "        os_path = os.path.join(os_path, i)\n",
    "    return os_path\n",
    "\n",
    "# 執行 Shapiro-Wilk_test、(常態性檢定)\n",
    "def Shapiro_Wilk_test(df) :\n",
    "    p_value = stats.shapiro(df).pvalue\n",
    "    return p_value\n",
    "\n",
    "\n",
    "# 執行變異數同質性檢定\n",
    "def levene_test(df_1, df_2) :\n",
    "    p_value = stats.levene(df_1, df_2).pvalue\n",
    "    return p_value\n",
    "\n",
    "# 執行獨立樣本 T 檢定\n",
    "def ttest_ind_test(df_1, df_2) :\n",
    "    p_value = stats.ttest_ind(df_1, df_2).pvalue\n",
    "    return p_value"
   ]
  },
  {
   "cell_type": "code",
   "execution_count": 2,
   "metadata": {},
   "outputs": [],
   "source": [
    "df = pandas.read_csv(os.path.join(os.getcwd(), \"database_clean\", \"database_clean.csv\"))"
   ]
  },
  {
   "attachments": {},
   "cell_type": "markdown",
   "metadata": {},
   "source": [
    "# 統計檢定部分\n",
    "1. 相同職業在台北市與其餘縣市，在薪資水平之獨力樣本T檢定"
   ]
  },
  {
   "cell_type": "code",
   "execution_count": 3,
   "metadata": {},
   "outputs": [],
   "source": [
    "# 判斷 輸出資料夾是否存在\n",
    "output_folder_path = os_path([\"picture\", \"Independent_Sample_t_test\", \"salary\", \"county\", \"Mix\"])\n",
    "if not os.path.exists(output_folder_path):\n",
    "    os.makedirs(output_folder_path)\n",
    "else:\n",
    "    pass"
   ]
  },
  {
   "cell_type": "code",
   "execution_count": 6,
   "metadata": {},
   "outputs": [
    {
     "data": {
      "text/plain": [
       "Index(['Profession_classification', 'company_name', 'work_name',\n",
       "       'requirements', '104_url', 'area', 'education', 'industry', 'seniority',\n",
       "       'number_of_applicants', 'salary', 'company_size', 'area_district',\n",
       "       'number_of_applicants_level', 'education_specialist', 'education_none',\n",
       "       'education_University', 'education_high_school',\n",
       "       'education_low_high_school', 'education_phd', 'education_master',\n",
       "       'month_salary_classfication', 'year_salary_classfication',\n",
       "       'time_salary_classfication', 'element_salary_classfication',\n",
       "       'max_salary', 'mix_salary', 'company_area',\n",
       "       'Profession_classification_chinese'],\n",
       "      dtype='object')"
      ]
     },
     "execution_count": 6,
     "metadata": {},
     "output_type": "execute_result"
    }
   ],
   "source": [
    "df.columns"
   ]
  },
  {
   "attachments": {},
   "cell_type": "markdown",
   "metadata": {},
   "source": [
    "## 常態性檢驗"
   ]
  },
  {
   "cell_type": "code",
   "execution_count": 7,
   "metadata": {},
   "outputs": [
    {
     "name": "stderr",
     "output_type": "stream",
     "text": [
      "c:\\Users\\Sigolon\\AppData\\Local\\Programs\\Python\\Python311\\Lib\\site-packages\\scipy\\stats\\_morestats.py:1816: UserWarning: p-value may not be accurate for N > 5000.\n",
      "  warnings.warn(\"p-value may not be accurate for N > 5000.\")\n"
     ]
    },
    {
     "data": {
      "text/plain": [
       "0.9841269841269841"
      ]
     },
     "execution_count": 7,
     "metadata": {},
     "output_type": "execute_result"
    }
   ],
   "source": [
    "# 先進行常態性檢定。\n",
    "Shapiro_Wilk_test_list = []\n",
    "for Profession_classification in list(dict.fromkeys(df[\"Profession_classification_chinese\"])) :  \n",
    "    for area in list(dict.fromkeys(df[\"area\"])) : \n",
    "        # 個別做常態性檢定\n",
    "        try : \n",
    "            Shapiro_Wilk_test_p = Shapiro_Wilk_test(df[(df[\"area\"] == area) & (df[\"Profession_classification_chinese\"] == Profession_classification)& ~(df[\"mix_salary\"].isnull()) & (df[\"month_salary_classfication\"] == 1)][\"mix_salary\"])\n",
    "            if Shapiro_Wilk_test_p <= 0.05 : \n",
    "                Shapiro_Wilk_test_list.append({\"縣市\" : area ,\"職業類型\" : Profession_classification, \"是否通過_Shapiro_Wilk\" : \"pass\"})\n",
    "            else : \n",
    "                Shapiro_Wilk_test_list.append({\"縣市\" : area ,\"職業類型\" : Profession_classification, \"是否通過_Shapiro_Wilk\" : \"none\"})\n",
    "        except : \n",
    "            Shapiro_Wilk_test_list.append({\"縣市\" : area ,\"職業類型\" : Profession_classification, \"是否通過_Shapiro_Wilk\" : \"none\"})\n",
    "\n",
    "Shapiro_Wilk_test_df = pandas.DataFrame(Shapiro_Wilk_test_list)\n",
    "len(Shapiro_Wilk_test_df[Shapiro_Wilk_test_df[\"是否通過_Shapiro_Wilk\"]==\"pass\"])/len(Shapiro_Wilk_test_df) # 通過率 0.984\n",
    "# 有意思的是，幾乎都沒有辦法通過呢~\n"
   ]
  },
  {
   "attachments": {},
   "cell_type": "markdown",
   "metadata": {},
   "source": [
    "## 變異數同質性檢定\n"
   ]
  },
  {
   "cell_type": "code",
   "execution_count": 8,
   "metadata": {},
   "outputs": [
    {
     "name": "stderr",
     "output_type": "stream",
     "text": [
      "c:\\Users\\Sigolon\\AppData\\Local\\Programs\\Python\\Python311\\Lib\\site-packages\\numpy\\core\\fromnumeric.py:3464: RuntimeWarning: Mean of empty slice.\n",
      "  return _methods._mean(a, axis=axis, dtype=dtype,\n",
      "c:\\Users\\Sigolon\\AppData\\Local\\Programs\\Python\\Python311\\Lib\\site-packages\\numpy\\core\\_methods.py:192: RuntimeWarning: invalid value encountered in scalar divide\n",
      "  ret = ret.dtype.type(ret / rcount)\n"
     ]
    },
    {
     "data": {
      "text/plain": [
       "0.6222222222222222"
      ]
     },
     "execution_count": 8,
     "metadata": {},
     "output_type": "execute_result"
    }
   ],
   "source": [
    "levene_test_list = []\n",
    "for Profession_classification in list(dict.fromkeys(df[\"Profession_classification_chinese\"])) :  \n",
    "    for area in list(dict.fromkeys(df[\"area\"])) : \n",
    "        if area == \"台北市\" : \n",
    "            continue\n",
    "\n",
    "        df_none_Taipai = df[(df[\"area\"] == area) & (df[\"Profession_classification_chinese\"] == Profession_classification) & ~(df[\"mix_salary\"].isnull()) & (df[\"month_salary_classfication\"] == 1)][\"mix_salary\"]\n",
    "        df_Taipai = df[(df[\"area\"] == \"台北市\") & (df[\"Profession_classification_chinese\"] == Profession_classification) & ~(df[\"mix_salary\"].isnull()) & (df[\"month_salary_classfication\"] == 1)][\"mix_salary\"]\n",
    "        \n",
    "        # 變異數同質性檢定\n",
    "        try : \n",
    "            levene_test_p = stats.levene(df_none_Taipai, df_Taipai).pvalue\n",
    "            if levene_test_p <= 0.05 : \n",
    "                levene_test_list.append({\"縣市\" : area ,\"職業類型\" : Profession_classification, \"是否通過_levene\" : \"pass\"})\n",
    "            else : \n",
    "                levene_test_list.append({\"縣市\" : area ,\"職業類型\" : Profession_classification, \"是否通過_levene\" : \"none\"})\n",
    "        except : \n",
    "            levene_test_list.append({\"縣市\" : area ,\"職業類型\" : Profession_classification, \"是否通過_levene\" : \"none\"})\n",
    "\n",
    "levene_test_df = pandas.DataFrame(levene_test_list)\n",
    "len(levene_test_df[levene_test_df[\"是否通過_levene\"]==\"pass\"])/len(levene_test_df) # 通過率 0.62"
   ]
  },
  {
   "cell_type": "code",
   "execution_count": 9,
   "metadata": {},
   "outputs": [],
   "source": [
    "levene_test_df[\"是否通過_Shapiro_Wilk\"] = Shapiro_Wilk_test_df[\"是否通過_Shapiro_Wilk\"]\n"
   ]
  },
  {
   "cell_type": "code",
   "execution_count": 15,
   "metadata": {},
   "outputs": [
    {
     "data": {
      "text/plain": [
       "0.6138888888888889"
      ]
     },
     "execution_count": 15,
     "metadata": {},
     "output_type": "execute_result"
    }
   ],
   "source": [
    "# 使用np.where根据条件生成新的列\n",
    "levene_test_df[\"能否進行檢定\"] = numpy.where((levene_test_df['是否通過_levene'] == \"pass\") & (levene_test_df['是否通過_Shapiro_Wilk'] == \"pass\"), \"pass\", \"none\")\n",
    "len(levene_test_df[levene_test_df[\"能否進行檢定\"] == \"pass\"])/len(levene_test_df)"
   ]
  },
  {
   "cell_type": "code",
   "execution_count": 16,
   "metadata": {},
   "outputs": [
    {
     "data": {
      "text/html": [
       "<div>\n",
       "<style scoped>\n",
       "    .dataframe tbody tr th:only-of-type {\n",
       "        vertical-align: middle;\n",
       "    }\n",
       "\n",
       "    .dataframe tbody tr th {\n",
       "        vertical-align: top;\n",
       "    }\n",
       "\n",
       "    .dataframe thead th {\n",
       "        text-align: right;\n",
       "    }\n",
       "</style>\n",
       "<table border=\"1\" class=\"dataframe\">\n",
       "  <thead>\n",
       "    <tr style=\"text-align: right;\">\n",
       "      <th></th>\n",
       "      <th>縣市</th>\n",
       "      <th>職業類型</th>\n",
       "      <th>是否通過_levene</th>\n",
       "      <th>是否通過_Shapiro_Wilk</th>\n",
       "      <th>能否進行檢定</th>\n",
       "    </tr>\n",
       "  </thead>\n",
       "  <tbody>\n",
       "    <tr>\n",
       "      <th>0</th>\n",
       "      <td>新北市</td>\n",
       "      <td>經營、人資類</td>\n",
       "      <td>pass</td>\n",
       "      <td>pass</td>\n",
       "      <td>pass</td>\n",
       "    </tr>\n",
       "    <tr>\n",
       "      <th>1</th>\n",
       "      <td>基隆市</td>\n",
       "      <td>經營、人資類</td>\n",
       "      <td>none</td>\n",
       "      <td>pass</td>\n",
       "      <td>none</td>\n",
       "    </tr>\n",
       "    <tr>\n",
       "      <th>2</th>\n",
       "      <td>桃園市</td>\n",
       "      <td>經營、人資類</td>\n",
       "      <td>none</td>\n",
       "      <td>pass</td>\n",
       "      <td>none</td>\n",
       "    </tr>\n",
       "    <tr>\n",
       "      <th>3</th>\n",
       "      <td>台南市</td>\n",
       "      <td>經營、人資類</td>\n",
       "      <td>pass</td>\n",
       "      <td>pass</td>\n",
       "      <td>pass</td>\n",
       "    </tr>\n",
       "    <tr>\n",
       "      <th>4</th>\n",
       "      <td>宜蘭縣</td>\n",
       "      <td>經營、人資類</td>\n",
       "      <td>pass</td>\n",
       "      <td>pass</td>\n",
       "      <td>pass</td>\n",
       "    </tr>\n",
       "    <tr>\n",
       "      <th>...</th>\n",
       "      <td>...</td>\n",
       "      <td>...</td>\n",
       "      <td>...</td>\n",
       "      <td>...</td>\n",
       "      <td>...</td>\n",
       "    </tr>\n",
       "    <tr>\n",
       "      <th>355</th>\n",
       "      <td>澎湖縣</td>\n",
       "      <td>其他類</td>\n",
       "      <td>none</td>\n",
       "      <td>pass</td>\n",
       "      <td>none</td>\n",
       "    </tr>\n",
       "    <tr>\n",
       "      <th>356</th>\n",
       "      <td>苗栗縣</td>\n",
       "      <td>其他類</td>\n",
       "      <td>pass</td>\n",
       "      <td>pass</td>\n",
       "      <td>pass</td>\n",
       "    </tr>\n",
       "    <tr>\n",
       "      <th>357</th>\n",
       "      <td>嘉義縣</td>\n",
       "      <td>其他類</td>\n",
       "      <td>pass</td>\n",
       "      <td>pass</td>\n",
       "      <td>pass</td>\n",
       "    </tr>\n",
       "    <tr>\n",
       "      <th>358</th>\n",
       "      <td>嘉義市</td>\n",
       "      <td>其他類</td>\n",
       "      <td>pass</td>\n",
       "      <td>pass</td>\n",
       "      <td>pass</td>\n",
       "    </tr>\n",
       "    <tr>\n",
       "      <th>359</th>\n",
       "      <td>台東縣</td>\n",
       "      <td>其他類</td>\n",
       "      <td>pass</td>\n",
       "      <td>pass</td>\n",
       "      <td>pass</td>\n",
       "    </tr>\n",
       "  </tbody>\n",
       "</table>\n",
       "<p>360 rows × 5 columns</p>\n",
       "</div>"
      ],
      "text/plain": [
       "      縣市    職業類型 是否通過_levene 是否通過_Shapiro_Wilk 能否進行檢定\n",
       "0    新北市  經營、人資類        pass              pass   pass\n",
       "1    基隆市  經營、人資類        none              pass   none\n",
       "2    桃園市  經營、人資類        none              pass   none\n",
       "3    台南市  經營、人資類        pass              pass   pass\n",
       "4    宜蘭縣  經營、人資類        pass              pass   pass\n",
       "..   ...     ...         ...               ...    ...\n",
       "355  澎湖縣     其他類        none              pass   none\n",
       "356  苗栗縣     其他類        pass              pass   pass\n",
       "357  嘉義縣     其他類        pass              pass   pass\n",
       "358  嘉義市     其他類        pass              pass   pass\n",
       "359  台東縣     其他類        pass              pass   pass\n",
       "\n",
       "[360 rows x 5 columns]"
      ]
     },
     "execution_count": 16,
     "metadata": {},
     "output_type": "execute_result"
    }
   ],
   "source": [
    "levene_test_df"
   ]
  },
  {
   "cell_type": "code",
   "execution_count": 17,
   "metadata": {},
   "outputs": [],
   "source": [
    "levene_test_df.to_csv(os_path([\"檢定資料\", \"同質性檢定.csv\"]), index= False)"
   ]
  },
  {
   "cell_type": "code",
   "execution_count": null,
   "metadata": {},
   "outputs": [
    {
     "data": {
      "text/plain": [
       "array(['新北市', '基隆市', '桃園市', '台南市', '宜蘭縣', '花蓮縣', '彰化縣', '雲林縣', '金門縣',\n",
       "       '新竹縣', '台中市', '高雄市', '南投縣', '屏東縣', '新竹市', '澎湖縣', '苗栗縣', '嘉義縣',\n",
       "       '嘉義市', '台東縣'], dtype=object)"
      ]
     },
     "execution_count": 18,
     "metadata": {},
     "output_type": "execute_result"
    }
   ],
   "source": [
    "levene_test_df[\"縣市\"].unique()"
   ]
  },
  {
   "attachments": {},
   "cell_type": "markdown",
   "metadata": {},
   "source": [
    "# 本段落小結 : \n",
    "透過這些圖表，試圖回答以下問題 : \n",
    "1. 不同學門之學生，畢業以後應該往何處進行物理性質的流動，才能夠擁有更優渥的薪水又或者說「機會」?\n",
    "2. 如果要進行流動的話，又該具備何種技能，才能夠確保自己擁有流動的資本 ? \n",
    "3. 這些技能是否具備地區上的同質性呢 ? 如果不是，那除了薪水以外，我們確實應該也要考慮，何地所欠缺的人力資本，與自身更有匹配度了 ?"
   ]
  }
 ],
 "metadata": {
  "kernelspec": {
   "display_name": "Python 3",
   "language": "python",
   "name": "python3"
  },
  "language_info": {
   "codemirror_mode": {
    "name": "ipython",
    "version": 3
   },
   "file_extension": ".py",
   "mimetype": "text/x-python",
   "name": "python",
   "nbconvert_exporter": "python",
   "pygments_lexer": "ipython3",
   "version": "3.11.2"
  },
  "orig_nbformat": 4
 },
 "nbformat": 4,
 "nbformat_minor": 2
}
